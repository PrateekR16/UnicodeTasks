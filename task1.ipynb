{
 "cells": [
  {
   "cell_type": "code",
   "execution_count": null,
   "metadata": {},
   "outputs": [],
   "source": [
    "import numpy as np\n",
    "import cv2 as cv\n",
    "\n",
    "img= cv.imread('pic.jpg')\n",
    "ogimg=img\n",
    "gray= cv.cvtColor(img,cv.COLOR_BGR2GRAY)\n",
    "canny = cv.Canny(gray,125,150)\n",
    "cv.imshow('cannys',canny )\n",
    "contours,hierarchy=cv.findContours(canny.copy(),cv.RETR_TREE,cv.CHAIN_APPROX_NONE)\n",
    "\n",
    "areas=[]\n",
    "\n",
    "for cnt in contours :\n",
    "     area=cv.contourArea(cnt)\n",
    "     areas.append(area)\n",
    "\n",
    "\n",
    "sorted_contours=sorted(contours,key=cv.contourArea,reverse=True)\n",
    "largest=sorted_contours[0]\n",
    "cv.drawContours(ogimg,largest,-1,(255,0,0),15)\n",
    "cv.imshow('Largest',ogimg)\n",
    "cv.waitKey(0)\n"
   ]
  },
  {
   "cell_type": "code",
   "execution_count": 1,
   "metadata": {},
   "outputs": [
    {
     "name": "stdout",
     "output_type": "stream",
     "text": [
      "Hello WOlrd\n"
     ]
    }
   ],
   "source": [
    "print(\"Hello WOlrd\")"
   ]
  },
  {
   "cell_type": "code",
   "execution_count": null,
   "metadata": {},
   "outputs": [],
   "source": []
  }
 ],
 "metadata": {
  "interpreter": {
   "hash": "ee5cc6fef2d70a7e71ee3826687cbd150f18158e0b1eef11d4f4f92bb920e304"
  },
  "kernelspec": {
   "display_name": "Python 3 (ipykernel)",
   "language": "python",
   "name": "python3"
  },
  "language_info": {
   "codemirror_mode": {
    "name": "ipython",
    "version": 3
   },
   "file_extension": ".py",
   "mimetype": "text/x-python",
   "name": "python",
   "nbconvert_exporter": "python",
   "pygments_lexer": "ipython3",
   "version": "3.9.6"
  },
  "toc-showmarkdowntxt": true
 },
 "nbformat": 4,
 "nbformat_minor": 4
}
